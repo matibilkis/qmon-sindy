{
 "cells": [
  {
   "cell_type": "code",
   "execution_count": 43,
   "id": "d3f0215c-02a5-4b30-abe4-c111bdd91eb0",
   "metadata": {},
   "outputs": [],
   "source": [
    "#My (very simple) task"
   ]
  },
  {
   "cell_type": "code",
   "execution_count": 13,
   "id": "865ba68a-2d41-4243-a758-e90df067572a",
   "metadata": {},
   "outputs": [],
   "source": [
    "import pennylane as qml\n",
    "from pennylane import numpy as np \n",
    "import os \n",
    "\n",
    "params = np.array([0.1, 0.02])\n",
    "\n",
    "dev = qml.device(\"default.qubit\", wires=1, shots=1000)\n",
    "@qml.qnode(dev)\n",
    "def circuit(params):\n",
    "    qml.RX(params[0],wires=0)\n",
    "    qml.RZ(params[1], wires=0)\n",
    "    return qml.sample(qml.PauliZ(0))\n",
    "\n",
    "data = circuit(params)\n",
    "save_dir = \"/data/cvcqml/common/matias/tutorial_pic/cost_reconstruction/{}\".format(params)\n",
    "os.makedirs(save_dir, exist_ok=True)\n",
    "np.save(save_dir,data)"
   ]
  },
  {
   "cell_type": "code",
   "execution_count": 42,
   "id": "fb865ec8-5dab-4ac8-868f-2ef421b7607c",
   "metadata": {},
   "outputs": [],
   "source": [
    "# I define the parameters I'd like to evaluate the results..."
   ]
  },
  {
   "cell_type": "code",
   "execution_count": 45,
   "id": "7481fc7d-227b-405f-83c8-da3c55b528ed",
   "metadata": {},
   "outputs": [],
   "source": [
    "N = 8\n",
    "p1 = np.linspace(0.,2*np.pi, N)\n",
    "p2 = np.linspace(0., 2*np.pi,N)\n",
    "\n",
    "with open('/nfs/pic.es/user/m/mbilkis/tutorial-pic/HPC/params.txt', 'w') as outf:\n",
    "    for x in p1:\n",
    "        for y in p2:\n",
    "            outf.write(\"{} {}\\n\".format(x, y))"
   ]
  },
  {
   "cell_type": "code",
   "execution_count": null,
   "id": "79cb9947-100b-440e-b7b5-380350d41284",
   "metadata": {},
   "outputs": [],
   "source": []
  }
 ],
 "metadata": {
  "kernelspec": {
   "display_name": "qvenv",
   "language": "python",
   "name": "qvenv"
  },
  "language_info": {
   "codemirror_mode": {
    "name": "ipython",
    "version": 3
   },
   "file_extension": ".py",
   "mimetype": "text/x-python",
   "name": "python",
   "nbconvert_exporter": "python",
   "pygments_lexer": "ipython3",
   "version": "3.12.3"
  }
 },
 "nbformat": 4,
 "nbformat_minor": 5
}
